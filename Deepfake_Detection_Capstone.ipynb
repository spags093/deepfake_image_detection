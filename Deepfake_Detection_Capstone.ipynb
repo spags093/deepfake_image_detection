{
  "nbformat": 4,
  "nbformat_minor": 0,
  "metadata": {
    "colab": {
      "name": "Deepfake Detection Capstone.ipynb",
      "provenance": [],
      "authorship_tag": "ABX9TyMjrv7XJ0YB1NSXcoBS9wm9",
      "include_colab_link": true
    },
    "kernelspec": {
      "name": "python3",
      "display_name": "Python 3"
    }
  },
  "cells": [
    {
      "cell_type": "markdown",
      "metadata": {
        "id": "view-in-github",
        "colab_type": "text"
      },
      "source": [
        "<a href=\"https://colab.research.google.com/github/spags093/dsc-capstone-project-v2-onl01-dtsc-ft-070620/blob/master/Deepfake_Detection_Capstone.ipynb\" target=\"_parent\"><img src=\"https://colab.research.google.com/assets/colab-badge.svg\" alt=\"Open In Colab\"/></a>"
      ]
    },
    {
      "cell_type": "markdown",
      "metadata": {
        "id": "kJl_gBG65GC4"
      },
      "source": [
        "# Capstone Project"
      ]
    },
    {
      "cell_type": "markdown",
      "metadata": {
        "id": "eaZ565PD5QgV"
      },
      "source": [
        " - Student Name: Jeff Spagnola\n",
        " - Student Pace: Full Time\n",
        " - Scheduled Project Review Date:\n",
        " - Instructor Name: James Irving\n",
        " - Blog Post URL:"
      ]
    },
    {
      "cell_type": "markdown",
      "metadata": {
        "id": "5vDHgGfG7-TD"
      },
      "source": [
        "<center> <b><i><u> Add a fun image here. </u></i></u></center>"
      ]
    },
    {
      "cell_type": "markdown",
      "metadata": {
        "id": "kWWGjO_C6Jpb"
      },
      "source": [
        "## Abstract"
      ]
    },
    {
      "cell_type": "markdown",
      "metadata": {
        "id": "xhhRgE-t76K7"
      },
      "source": [
        "Write 2-3 paragraph outline of the entire project."
      ]
    },
    {
      "cell_type": "markdown",
      "metadata": {
        "id": "C_La2clN5TXH"
      },
      "source": [
        "## 1. Introduction"
      ]
    },
    {
      "cell_type": "markdown",
      "metadata": {
        "id": "HWnm2clI6mTF"
      },
      "source": [
        "Describe the deepfake project."
      ]
    },
    {
      "cell_type": "markdown",
      "metadata": {
        "id": "XYKY6VuC5pwD"
      },
      "source": [
        "### Imports"
      ]
    },
    {
      "cell_type": "code",
      "metadata": {
        "id": "5xJTH5CN5m1r"
      },
      "source": [
        "import pandas as pd\n",
        "import numpy as np\n",
        "import matplotlib.pyplot as plt\n",
        "import seaborn as sns\n",
        "import tensorflow as tf\n",
        "import os"
      ],
      "execution_count": null,
      "outputs": []
    },
    {
      "cell_type": "markdown",
      "metadata": {
        "id": "dmScjZ475s4q"
      },
      "source": [
        "### Functions"
      ]
    },
    {
      "cell_type": "markdown",
      "metadata": {
        "id": "Pp3DZ06Z5XPF"
      },
      "source": [
        "## 2. Obtain"
      ]
    },
    {
      "cell_type": "markdown",
      "metadata": {
        "id": "2BH3lqSn5XaE"
      },
      "source": [
        "## 3. Scrub"
      ]
    },
    {
      "cell_type": "markdown",
      "metadata": {
        "id": "Y_W26bZk5Xh8"
      },
      "source": [
        "## 4. Explore"
      ]
    },
    {
      "cell_type": "markdown",
      "metadata": {
        "id": "Rbd14bC95XqO"
      },
      "source": [
        "## 5. Model\n",
        "\n"
      ]
    },
    {
      "cell_type": "markdown",
      "metadata": {
        "id": "9gohRaeM5Xxc"
      },
      "source": [
        "## 6. Interpret"
      ]
    },
    {
      "cell_type": "markdown",
      "metadata": {
        "id": "5ujZqd7p5X-c"
      },
      "source": [
        "## 7. Conclusion"
      ]
    },
    {
      "cell_type": "markdown",
      "metadata": {
        "id": "57IYbpFF6ut8"
      },
      "source": [
        "### Recommendations"
      ]
    },
    {
      "cell_type": "markdown",
      "metadata": {
        "id": "qDo8499p7LRJ"
      },
      "source": [
        "Describe 3 recommendations based on the project:\n",
        " - Recommendation 1\n",
        " - Recommendation 2\n",
        " - Recommendation 3"
      ]
    },
    {
      "cell_type": "markdown",
      "metadata": {
        "id": "V5345btF6yar"
      },
      "source": [
        "### Future Work"
      ]
    },
    {
      "cell_type": "markdown",
      "metadata": {
        "id": "vat_WkuM7CPD"
      },
      "source": [
        "This is where the future work stuff goes.\n",
        "- Can add something about video"
      ]
    },
    {
      "cell_type": "markdown",
      "metadata": {
        "id": "8PdIaKb162HM"
      },
      "source": [
        "<center><b><i> Thank you. </i></b></center>"
      ]
    }
  ]
}